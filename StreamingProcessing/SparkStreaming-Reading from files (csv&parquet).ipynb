{
 "cells": [
  {
   "cell_type": "code",
   "execution_count": null,
   "id": "9f30c8ec",
   "metadata": {},
   "outputs": [],
   "source": [
    "import pyspark\n",
    "from pyspark.sql import SparkSession\n",
    "spark = SparkSession.builder.getOrCreate()"
   ]
  },
  {
   "cell_type": "code",
   "execution_count": null,
   "id": "9f833aa9",
   "metadata": {},
   "outputs": [],
   "source": [
    "from pyspark.sql.types import (StructType, StructField,\n",
    "                               StringType, IntegerType)\n",
    "\n",
    "recordSchema = StructType([StructField('date', StringType(), True),\n",
    "                           StructField('delay', IntegerType(), True),\n",
    "                           StructField('distance', IntegerType(), True),\n",
    "                           StructField('origin', StringType(), True),\n",
    "                           StructField('destination', StringType(), True)])"
   ]
  },
  {
   "cell_type": "code",
   "execution_count": null,
   "id": "b6efa589",
   "metadata": {},
   "outputs": [],
   "source": [
    "df = spark.readStream.format(\"csv\") \\\n",
    "    .schema(recordSchema) \\\n",
    "    .load(\"MyInputStream/\")"
   ]
  },
  {
   "cell_type": "code",
   "execution_count": null,
   "id": "07458703",
   "metadata": {},
   "outputs": [],
   "source": [
    "df = spark.readStream.format(\"parquet\") \\\n",
    "    .schema(recordSchema) \\\n",
    "    .load(\"MyInputStream/\")"
   ]
  },
  {
   "cell_type": "code",
   "execution_count": null,
   "id": "22604e35",
   "metadata": {},
   "outputs": [],
   "source": [
    "writer = df.writeStream.outputMode(\"append\") \\\n",
    "    .format(\"console\") \\\n",
    "    .option(\"truncate\", False) \\\n",
    "    .option(\"numRows\", 20) "
   ]
  },
  {
   "cell_type": "code",
   "execution_count": null,
   "id": "c447ea46",
   "metadata": {},
   "outputs": [],
   "source": [
    "writer = df.writeStream.outputMode(\"complete\") \\\n",
    "    .format(\"console\") \\\n",
    "    .option(\"truncate\", False) \\\n",
    "    .option(\"numRows\", 20) "
   ]
  },
  {
   "cell_type": "code",
   "execution_count": null,
   "id": "23bae4c4",
   "metadata": {
    "scrolled": false
   },
   "outputs": [],
   "source": [
    "query = writer.start()"
   ]
  },
  {
   "cell_type": "code",
   "execution_count": null,
   "id": "3b342e2f",
   "metadata": {},
   "outputs": [],
   "source": [
    "query.stop()"
   ]
  },
  {
   "cell_type": "markdown",
   "id": "2ac8e04a",
   "metadata": {},
   "source": [
    "### Note:\n",
    " - Complete output mode not supported when there are no streaming aggregations on streaming DataFrames/Datasets."
   ]
  },
  {
   "cell_type": "code",
   "execution_count": null,
   "id": "349bca9c",
   "metadata": {},
   "outputs": [],
   "source": []
  }
 ],
 "metadata": {
  "kernelspec": {
   "display_name": "Python 3 (ipykernel)",
   "language": "python",
   "name": "python3"
  },
  "language_info": {
   "codemirror_mode": {
    "name": "ipython",
    "version": 3
   },
   "file_extension": ".py",
   "mimetype": "text/x-python",
   "name": "python",
   "nbconvert_exporter": "python",
   "pygments_lexer": "ipython3",
   "version": "3.9.12"
  }
 },
 "nbformat": 4,
 "nbformat_minor": 5
}
