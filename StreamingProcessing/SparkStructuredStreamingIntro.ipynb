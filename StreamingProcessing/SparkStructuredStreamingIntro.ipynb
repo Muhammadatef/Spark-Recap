{
 "cells": [
  {
   "cell_type": "code",
   "execution_count": 1,
   "id": "34af4bc6",
   "metadata": {},
   "outputs": [],
   "source": [
    "import pyspark\n",
    "from pyspark.sql import SparkSession\n",
    "spark = SparkSession.builder.getOrCreate()"
   ]
  },
  {
   "cell_type": "code",
   "execution_count": 2,
   "id": "3695722d",
   "metadata": {},
   "outputs": [
    {
     "name": "stderr",
     "output_type": "stream",
     "text": [
      "22/06/25 10:50:11 WARN TextSocketSourceProvider: The socket source should not be used for production applications! It does not support recovery.\n"
     ]
    }
   ],
   "source": [
    "df = spark.readStream.format('socket')\\\n",
    "                     .option('host','localhost')\\\n",
    "                     .option('port',12345)\\\n",
    "                     .load()"
   ]
  },
  {
   "cell_type": "code",
   "execution_count": 3,
   "id": "eb862d0f",
   "metadata": {},
   "outputs": [],
   "source": [
    "from pyspark.sql.functions import *"
   ]
  },
  {
   "cell_type": "code",
   "execution_count": 9,
   "id": "08a4094f",
   "metadata": {},
   "outputs": [],
   "source": [
    "df2 = df.select('value',split(df['value'],' ').alias('SplittedLines'))"
   ]
  },
  {
   "cell_type": "code",
   "execution_count": 13,
   "id": "e27e8bfa",
   "metadata": {},
   "outputs": [],
   "source": [
    "df3 = df2.select(explode(col('SplittedLines')).alias('words'))"
   ]
  },
  {
   "cell_type": "code",
   "execution_count": 17,
   "id": "9144623e",
   "metadata": {},
   "outputs": [],
   "source": [
    "df4 = df3.groupBy('words').count()"
   ]
  },
  {
   "cell_type": "code",
   "execution_count": 21,
   "id": "bb68b088",
   "metadata": {},
   "outputs": [],
   "source": [
    "writer_4 = df4.writeStream.format('console')\\\n",
    ".outputMode('complete')\\\n",
    ".trigger(processingTime='1 second')\\\n",
    ".option('truncate',False)\\\n",
    ".option('checkpointLocation','chk')"
   ]
  },
  {
   "cell_type": "code",
   "execution_count": 23,
   "id": "8e980160",
   "metadata": {},
   "outputs": [],
   "source": [
    "query_4.stop()"
   ]
  },
  {
   "cell_type": "code",
   "execution_count": 22,
   "id": "5e1b5b55",
   "metadata": {},
   "outputs": [
    {
     "name": "stderr",
     "output_type": "stream",
     "text": [
      "22/06/25 11:05:19 WARN ResolveWriteToStream: spark.sql.adaptive.enabled is not supported in streaming DataFrames/Datasets and will be disabled.\n",
      "                                                                                \r"
     ]
    },
    {
     "name": "stdout",
     "output_type": "stream",
     "text": [
      "-------------------------------------------\n",
      "Batch: 0\n",
      "-------------------------------------------\n",
      "+-----+-----+\n",
      "|words|count|\n",
      "+-----+-----+\n",
      "+-----+-----+\n",
      "\n"
     ]
    },
    {
     "name": "stderr",
     "output_type": "stream",
     "text": [
      "22/06/25 11:06:21 WARN ProcessingTimeExecutor: Current batch is falling behind. The trigger interval is 1000 milliseconds, but spent 62107 milliseconds\n",
      "                                                                                \r"
     ]
    },
    {
     "name": "stdout",
     "output_type": "stream",
     "text": [
      "-------------------------------------------\n",
      "Batch: 1\n",
      "-------------------------------------------\n",
      "+-----+-----+\n",
      "|words|count|\n",
      "+-----+-----+\n",
      "|Hi   |1    |\n",
      "|all  |1    |\n",
      "+-----+-----+\n",
      "\n"
     ]
    },
    {
     "name": "stderr",
     "output_type": "stream",
     "text": [
      "22/06/25 11:06:51 WARN ProcessingTimeExecutor: Current batch is falling behind. The trigger interval is 1000 milliseconds, but spent 29408 milliseconds\n",
      "                                                                                \r"
     ]
    },
    {
     "name": "stdout",
     "output_type": "stream",
     "text": [
      "-------------------------------------------\n",
      "Batch: 2\n",
      "-------------------------------------------\n",
      "+-----+-----+\n",
      "|words|count|\n",
      "+-----+-----+\n",
      "|Hatem|1    |\n",
      "|Hi   |3    |\n",
      "|Hello|1    |\n",
      "|all  |3    |\n",
      "+-----+-----+\n",
      "\n"
     ]
    },
    {
     "name": "stderr",
     "output_type": "stream",
     "text": [
      "22/06/25 11:07:16 WARN ProcessingTimeExecutor: Current batch is falling behind. The trigger interval is 1000 milliseconds, but spent 25140 milliseconds\n",
      "                                                                                \r"
     ]
    },
    {
     "name": "stdout",
     "output_type": "stream",
     "text": [
      "-------------------------------------------\n",
      "Batch: 3\n",
      "-------------------------------------------\n",
      "+-------+-----+\n",
      "|words  |count|\n",
      "+-------+-----+\n",
      "|Hatem  |1    |\n",
      "|Hi     |3    |\n",
      "|Hello  |1    |\n",
      "|Ahmed  |1    |\n",
      "|all    |3    |\n",
      "|Mohamed|2    |\n",
      "+-------+-----+\n",
      "\n"
     ]
    },
    {
     "name": "stderr",
     "output_type": "stream",
     "text": [
      "22/06/25 11:07:38 WARN ProcessingTimeExecutor: Current batch is falling behind. The trigger interval is 1000 milliseconds, but spent 22646 milliseconds\n"
     ]
    }
   ],
   "source": [
    "query_4 = writer_4.start()"
   ]
  },
  {
   "cell_type": "code",
   "execution_count": 10,
   "id": "757e1dfa",
   "metadata": {},
   "outputs": [],
   "source": [
    "writer = df2.writeStream.format('console')\\\n",
    ".outputMode('append')\\\n",
    ".trigger(processingTime='1 second')\\\n",
    ".option('truncate',False)"
   ]
  },
  {
   "cell_type": "code",
   "execution_count": 14,
   "id": "802e5e76",
   "metadata": {},
   "outputs": [],
   "source": [
    "writer_3 = df3.writeStream.format('console')\\\n",
    ".outputMode('append')\\\n",
    ".trigger(processingTime='1 second')\\\n",
    ".option('truncate',False)"
   ]
  },
  {
   "cell_type": "code",
   "execution_count": 4,
   "id": "2ec077f8",
   "metadata": {},
   "outputs": [],
   "source": [
    "writer_2 = df.writeStream.format('console').outputMode('append').trigger(processingTime='1 second')"
   ]
  },
  {
   "cell_type": "code",
   "execution_count": 11,
   "id": "d05d1456",
   "metadata": {},
   "outputs": [
    {
     "name": "stderr",
     "output_type": "stream",
     "text": [
      "22/06/25 10:54:28 WARN ResolveWriteToStream: Temporary checkpoint location created which is deleted normally when the query didn't fail: /tmp/temporary-adb29cfb-3740-4b6b-8d81-c216048db396. If it's required to delete it under any circumstances, please set spark.sql.streaming.forceDeleteTempCheckpointLocation to true. Important to know deleting temp checkpoint folder is best effort.\n",
      "22/06/25 10:54:28 WARN ResolveWriteToStream: spark.sql.adaptive.enabled is not supported in streaming DataFrames/Datasets and will be disabled.\n"
     ]
    },
    {
     "name": "stdout",
     "output_type": "stream",
     "text": [
      "-------------------------------------------\n",
      "Batch: 0\n",
      "-------------------------------------------\n",
      "+-----+-------------+\n",
      "|value|SplittedLines|\n",
      "+-----+-------------+\n",
      "+-----+-------------+\n",
      "\n"
     ]
    },
    {
     "name": "stderr",
     "output_type": "stream",
     "text": [
      "22/06/25 10:54:29 WARN ProcessingTimeExecutor: Current batch is falling behind. The trigger interval is 1000 milliseconds, but spent 1334 milliseconds\n"
     ]
    },
    {
     "name": "stdout",
     "output_type": "stream",
     "text": [
      "-------------------------------------------\n",
      "Batch: 1\n",
      "-------------------------------------------\n",
      "+--------------------+--------------------------+\n",
      "|value               |SplittedLines             |\n",
      "+--------------------+--------------------------+\n",
      "|Hi all, how are you?|[Hi, all,, how, are, you?]|\n",
      "+--------------------+--------------------------+\n",
      "\n"
     ]
    },
    {
     "name": "stderr",
     "output_type": "stream",
     "text": [
      "22/06/25 10:54:42 WARN ProcessingTimeExecutor: Current batch is falling behind. The trigger interval is 1000 milliseconds, but spent 1371 milliseconds\n"
     ]
    }
   ],
   "source": [
    "query = writer.start()"
   ]
  },
  {
   "cell_type": "code",
   "execution_count": 6,
   "id": "97945465",
   "metadata": {},
   "outputs": [
    {
     "name": "stderr",
     "output_type": "stream",
     "text": [
      "22/06/25 10:50:35 WARN ResolveWriteToStream: Temporary checkpoint location created which is deleted normally when the query didn't fail: /tmp/temporary-e2c29137-7aab-4fa8-9953-ac34b302fc53. If it's required to delete it under any circumstances, please set spark.sql.streaming.forceDeleteTempCheckpointLocation to true. Important to know deleting temp checkpoint folder is best effort.\n",
      "22/06/25 10:50:35 WARN ResolveWriteToStream: spark.sql.adaptive.enabled is not supported in streaming DataFrames/Datasets and will be disabled.\n",
      "                                                                                \r"
     ]
    },
    {
     "name": "stdout",
     "output_type": "stream",
     "text": [
      "-------------------------------------------\n",
      "Batch: 0\n",
      "-------------------------------------------\n",
      "+-----+\n",
      "|value|\n",
      "+-----+\n",
      "+-----+\n",
      "\n"
     ]
    },
    {
     "name": "stderr",
     "output_type": "stream",
     "text": [
      "22/06/25 10:50:45 WARN ProcessingTimeExecutor: Current batch is falling behind. The trigger interval is 1000 milliseconds, but spent 8593 milliseconds\n"
     ]
    },
    {
     "name": "stdout",
     "output_type": "stream",
     "text": [
      "-------------------------------------------\n",
      "Batch: 1\n",
      "-------------------------------------------\n",
      "+---------------+\n",
      "|          value|\n",
      "+---------------+\n",
      "|Hi how are you?|\n",
      "+---------------+\n",
      "\n",
      "-------------------------------------------\n",
      "Batch: 2\n",
      "-------------------------------------------\n",
      "+------+\n",
      "| value|\n",
      "+------+\n",
      "|hi all|\n",
      "+------+\n",
      "\n"
     ]
    }
   ],
   "source": [
    "query_2 = writer_2.start()"
   ]
  },
  {
   "cell_type": "code",
   "execution_count": 12,
   "id": "b2727bb0",
   "metadata": {},
   "outputs": [],
   "source": [
    "query.stop()"
   ]
  },
  {
   "cell_type": "code",
   "execution_count": 7,
   "id": "c96e4f8f",
   "metadata": {},
   "outputs": [],
   "source": [
    "query_2.stop()"
   ]
  },
  {
   "cell_type": "code",
   "execution_count": 16,
   "id": "fc087d30",
   "metadata": {},
   "outputs": [],
   "source": [
    "query_3.stop()"
   ]
  },
  {
   "cell_type": "code",
   "execution_count": 15,
   "id": "92e3d931",
   "metadata": {},
   "outputs": [
    {
     "name": "stderr",
     "output_type": "stream",
     "text": [
      "22/06/25 10:58:50 WARN ResolveWriteToStream: Temporary checkpoint location created which is deleted normally when the query didn't fail: /tmp/temporary-bb8bb814-7ee7-4492-bca8-a2440919140d. If it's required to delete it under any circumstances, please set spark.sql.streaming.forceDeleteTempCheckpointLocation to true. Important to know deleting temp checkpoint folder is best effort.\n",
      "22/06/25 10:58:50 WARN ResolveWriteToStream: spark.sql.adaptive.enabled is not supported in streaming DataFrames/Datasets and will be disabled.\n"
     ]
    },
    {
     "name": "stdout",
     "output_type": "stream",
     "text": [
      "-------------------------------------------\n",
      "Batch: 0\n",
      "-------------------------------------------\n",
      "+-----+\n",
      "|words|\n",
      "+-----+\n",
      "+-----+\n",
      "\n"
     ]
    },
    {
     "name": "stderr",
     "output_type": "stream",
     "text": [
      "22/06/25 10:58:52 WARN ProcessingTimeExecutor: Current batch is falling behind. The trigger interval is 1000 milliseconds, but spent 1698 milliseconds\n"
     ]
    },
    {
     "name": "stdout",
     "output_type": "stream",
     "text": [
      "-------------------------------------------\n",
      "Batch: 1\n",
      "-------------------------------------------\n",
      "+-----+\n",
      "|words|\n",
      "+-----+\n",
      "|Hi   |\n",
      "|Hello|\n",
      "|Hi   |\n",
      "+-----+\n",
      "\n",
      "-------------------------------------------\n",
      "Batch: 2\n",
      "-------------------------------------------\n",
      "+-----+\n",
      "|words|\n",
      "+-----+\n",
      "|Hello|\n",
      "|Hi   |\n",
      "|Hello|\n",
      "+-----+\n",
      "\n"
     ]
    },
    {
     "name": "stderr",
     "output_type": "stream",
     "text": [
      "22/06/25 10:59:24 WARN ProcessingTimeExecutor: Current batch is falling behind. The trigger interval is 1000 milliseconds, but spent 1189 milliseconds\n"
     ]
    }
   ],
   "source": [
    "query_3 = writer_3.start()"
   ]
  },
  {
   "cell_type": "code",
   "execution_count": 25,
   "id": "b5420364",
   "metadata": {},
   "outputs": [
    {
     "name": "stderr",
     "output_type": "stream",
     "text": [
      "22/06/25 11:12:58 WARN TextSocketSourceProvider: The socket source should not be used for production applications! It does not support recovery.\n",
      "22/06/25 11:12:58 WARN ResolveWriteToStream: spark.sql.adaptive.enabled is not supported in streaming DataFrames/Datasets and will be disabled.\n",
      "                                                                                \r"
     ]
    },
    {
     "name": "stdout",
     "output_type": "stream",
     "text": [
      "-------------------------------------------\n",
      "Batch: 0\n",
      "-------------------------------------------\n",
      "+-----+-----+\n",
      "|words|count|\n",
      "+-----+-----+\n",
      "+-----+-----+\n",
      "\n"
     ]
    },
    {
     "name": "stderr",
     "output_type": "stream",
     "text": [
      "22/06/25 11:13:32 WARN ProcessingTimeExecutor: Current batch is falling behind. The trigger interval is 1000 milliseconds, but spent 33210 milliseconds\n",
      "22/06/25 11:13:53 WARN ProcessingTimeExecutor: Current batch is falling behind. The trigger interval is 1000 milliseconds, but spent 21104 milliseconds\n"
     ]
    },
    {
     "name": "stdout",
     "output_type": "stream",
     "text": [
      "-------------------------------------------\n",
      "Batch: 1\n",
      "-------------------------------------------\n",
      "+-----+-----+\n",
      "|words|count|\n",
      "+-----+-----+\n",
      "|Hi   |3    |\n",
      "|Hello|1    |\n",
      "|Class|2    |\n",
      "|Spark|2    |\n",
      "|all  |1    |\n",
      "+-----+-----+\n",
      "\n"
     ]
    }
   ],
   "source": [
    "df = spark.readStream.format('socket')\\\n",
    "                     .option('host','localhost')\\\n",
    "                     .option('port',12345)\\\n",
    "                     .load()\n",
    "\n",
    "df2 = df.select('value',split(df['value'],' ').alias('SplittedLines'))\n",
    "\n",
    "df3 = df2.select(explode(col('SplittedLines')).alias('words'))\n",
    "\n",
    "df4 = df3.groupBy('words').count()\n",
    "\n",
    "writer_4 = df4.writeStream.format('console')\\\n",
    ".outputMode('complete')\\\n",
    ".trigger(processingTime='1 second')\\\n",
    ".option('truncate',False)\\\n",
    ".option('checkpointLocation','chk3')\n",
    "\n",
    "query_4 = writer_4.start()"
   ]
  },
  {
   "cell_type": "code",
   "execution_count": 26,
   "id": "1cc4f3d0",
   "metadata": {},
   "outputs": [],
   "source": [
    "query_4.stop()"
   ]
  },
  {
   "cell_type": "code",
   "execution_count": 2,
   "id": "8765f589",
   "metadata": {},
   "outputs": [],
   "source": [
    "from pyspark.sql.types import (StructType, StructField,\n",
    "                               StringType, IntegerType)\n",
    "\n",
    "recordSchema = StructType([StructField('date', StringType(), True),\n",
    "                           StructField('delay', IntegerType(), True),\n",
    "                           StructField('distance', IntegerType(), True),\n",
    "                           StructField('origin', StringType(), True),\n",
    "                           StructField('destination', StringType(), True)])"
   ]
  },
  {
   "cell_type": "code",
   "execution_count": 3,
   "id": "8f9d103e",
   "metadata": {},
   "outputs": [],
   "source": [
    "df = spark.readStream.format('csv').schema(recordSchema).load('MyInputStream/')"
   ]
  },
  {
   "cell_type": "code",
   "execution_count": 4,
   "id": "94b4542a",
   "metadata": {},
   "outputs": [],
   "source": [
    "writer = df.writeStream.outputMode('append')\\\n",
    ".format('console')\\\n",
    ".option('truncate',False)\\\n",
    ".option('numRows',10)"
   ]
  },
  {
   "cell_type": "code",
   "execution_count": 17,
   "id": "f4be1612",
   "metadata": {},
   "outputs": [],
   "source": [
    "query.stop()"
   ]
  },
  {
   "cell_type": "code",
   "execution_count": 7,
   "id": "a46c8585",
   "metadata": {},
   "outputs": [
    {
     "name": "stderr",
     "output_type": "stream",
     "text": [
      "22/06/25 11:47:15 WARN ResolveWriteToStream: Temporary checkpoint location created which is deleted normally when the query didn't fail: /tmp/temporary-5e26b6db-bb57-4481-9f2b-31147e53a90b. If it's required to delete it under any circumstances, please set spark.sql.streaming.forceDeleteTempCheckpointLocation to true. Important to know deleting temp checkpoint folder is best effort.\n",
      "22/06/25 11:47:15 WARN ResolveWriteToStream: spark.sql.adaptive.enabled is not supported in streaming DataFrames/Datasets and will be disabled.\n",
      "                                                                                \r"
     ]
    },
    {
     "name": "stdout",
     "output_type": "stream",
     "text": [
      "-------------------------------------------\n",
      "Batch: 0\n",
      "-------------------------------------------\n",
      "+-------+-----+--------+------+-----------+\n",
      "|date   |delay|distance|origin|destination|\n",
      "+-------+-----+--------+------+-----------+\n",
      "|1080600|0    |369     |ABE   |DTW        |\n",
      "|1081230|33   |369     |ABE   |DTW        |\n",
      "|1080625|1    |602     |ABE   |ATL        |\n",
      "|1080607|5    |569     |ABE   |ORD        |\n",
      "|1081219|54   |569     |ABE   |ORD        |\n",
      "|1091215|43   |602     |ABE   |ATL        |\n",
      "|1090600|151  |369     |ABE   |DTW        |\n",
      "|1091725|0    |602     |ABE   |ATL        |\n",
      "|1091230|-4   |369     |ABE   |DTW        |\n",
      "|1090625|8    |602     |ABE   |ATL        |\n",
      "+-------+-----+--------+------+-----------+\n",
      "only showing top 10 rows\n",
      "\n",
      "-------------------------------------------\n",
      "Batch: 1\n",
      "-------------------------------------------\n",
      "+-------+-----+--------+------+-----------+\n",
      "|date   |delay|distance|origin|destination|\n",
      "+-------+-----+--------+------+-----------+\n",
      "|1121215|-5   |602     |ABE   |ATL        |\n",
      "|1121725|-1   |602     |ABE   |ATL        |\n",
      "|1131215|14   |602     |ABE   |ATL        |\n",
      "|1130600|-7   |369     |ABE   |DTW        |\n",
      "|1131725|-6   |602     |ABE   |ATL        |\n",
      "|1131230|-13  |369     |ABE   |DTW        |\n",
      "|1130625|29   |602     |ABE   |ATL        |\n",
      "|1131219|-8   |569     |ABE   |ORD        |\n",
      "|1140600|-9   |369     |ABE   |DTW        |\n",
      "|1141725|-9   |602     |ABE   |ATL        |\n",
      "+-------+-----+--------+------+-----------+\n",
      "only showing top 10 rows\n",
      "\n"
     ]
    }
   ],
   "source": [
    "query = writer.start()"
   ]
  },
  {
   "cell_type": "code",
   "execution_count": 9,
   "id": "c4e4479e",
   "metadata": {},
   "outputs": [],
   "source": [
    "writer = df.writeStream.outputMode('append')\\\n",
    ".format('memory')\\\n",
    ".queryName('MyData')"
   ]
  },
  {
   "cell_type": "code",
   "execution_count": 10,
   "id": "638723fb",
   "metadata": {},
   "outputs": [
    {
     "name": "stderr",
     "output_type": "stream",
     "text": [
      "22/06/25 11:49:57 WARN ResolveWriteToStream: Temporary checkpoint location created which is deleted normally when the query didn't fail: /tmp/temporary-6e4e6839-a2c4-4b93-90cc-f184c7c27132. If it's required to delete it under any circumstances, please set spark.sql.streaming.forceDeleteTempCheckpointLocation to true. Important to know deleting temp checkpoint folder is best effort.\n",
      "22/06/25 11:49:57 WARN ResolveWriteToStream: spark.sql.adaptive.enabled is not supported in streaming DataFrames/Datasets and will be disabled.\n",
      "                                                                                \r"
     ]
    }
   ],
   "source": [
    "query = writer.start()"
   ]
  },
  {
   "cell_type": "code",
   "execution_count": 13,
   "id": "297e80ac",
   "metadata": {
    "scrolled": true
   },
   "outputs": [
    {
     "name": "stdout",
     "output_type": "stream",
     "text": [
      "+-------+-----+--------+------+-----------+\n",
      "|   date|delay|distance|origin|destination|\n",
      "+-------+-----+--------+------+-----------+\n",
      "|1080600|    0|     369|   ABE|        DTW|\n",
      "|1081230|   33|     369|   ABE|        DTW|\n",
      "|1080625|    1|     602|   ABE|        ATL|\n",
      "|1080607|    5|     569|   ABE|        ORD|\n",
      "|1081219|   54|     569|   ABE|        ORD|\n",
      "|1091215|   43|     602|   ABE|        ATL|\n",
      "|1090600|  151|     369|   ABE|        DTW|\n",
      "|1091725|    0|     602|   ABE|        ATL|\n",
      "|1091230|   -4|     369|   ABE|        DTW|\n",
      "|1090625|    8|     602|   ABE|        ATL|\n",
      "|1091219|   83|     569|   ABE|        ORD|\n",
      "|1101215|   -5|     602|   ABE|        ATL|\n",
      "|1100600|   -5|     369|   ABE|        DTW|\n",
      "|1101725|    7|     602|   ABE|        ATL|\n",
      "|1101230|   -8|     369|   ABE|        DTW|\n",
      "|1100625|   52|     602|   ABE|        ATL|\n",
      "|1101219|    0|     569|   ABE|        ORD|\n",
      "|1111215|  127|     602|   ABE|        ATL|\n",
      "|1110600|   -9|     369|   ABE|        DTW|\n",
      "|1110625|   -4|     602|   ABE|        ATL|\n",
      "|1011245|    6|     602|   ABE|        ATL|\n",
      "|1020600|   -8|     369|   ABE|        DTW|\n",
      "|1021245|   -2|     602|   ABE|        ATL|\n",
      "|1020605|   -4|     602|   ABE|        ATL|\n",
      "|1031245|   -4|     602|   ABE|        ATL|\n",
      "|1030605|    0|     602|   ABE|        ATL|\n",
      "|1041243|   10|     602|   ABE|        ATL|\n",
      "|1040605|   28|     602|   ABE|        ATL|\n",
      "|1051245|   88|     602|   ABE|        ATL|\n",
      "|1050605|    9|     602|   ABE|        ATL|\n",
      "|1061215|   -6|     602|   ABE|        ATL|\n",
      "|1061725|   69|     602|   ABE|        ATL|\n",
      "|1061230|    0|     369|   ABE|        DTW|\n",
      "|1060625|   -3|     602|   ABE|        ATL|\n",
      "|1070600|    0|     369|   ABE|        DTW|\n",
      "|1071725|    0|     602|   ABE|        ATL|\n",
      "|1071230|    0|     369|   ABE|        DTW|\n",
      "|1070625|    0|     602|   ABE|        ATL|\n",
      "|1071219|    0|     569|   ABE|        ORD|\n",
      "|1121215|   -5|     602|   ABE|        ATL|\n",
      "|1121725|   -1|     602|   ABE|        ATL|\n",
      "|1131215|   14|     602|   ABE|        ATL|\n",
      "|1130600|   -7|     369|   ABE|        DTW|\n",
      "|1131725|   -6|     602|   ABE|        ATL|\n",
      "|1131230|  -13|     369|   ABE|        DTW|\n",
      "|1130625|   29|     602|   ABE|        ATL|\n",
      "|1131219|   -8|     569|   ABE|        ORD|\n",
      "|1140600|   -9|     369|   ABE|        DTW|\n",
      "|1141725|   -9|     602|   ABE|        ATL|\n",
      "|1141230|   -8|     369|   ABE|        DTW|\n",
      "|1140625|   -5|     602|   ABE|        ATL|\n",
      "|1141219|  -10|     569|   ABE|        ORD|\n",
      "|1150600|    0|     369|   ABE|        DTW|\n",
      "|1151725|   -6|     602|   ABE|        ATL|\n",
      "|1151230|    0|     369|   ABE|        DTW|\n",
      "|1150625|    0|     602|   ABE|        ATL|\n",
      "|1150607|    0|     569|   ABE|        ORD|\n",
      "|1151219|    0|     569|   ABE|        ORD|\n",
      "+-------+-----+--------+------+-----------+\n",
      "\n"
     ]
    }
   ],
   "source": [
    "spark.sql('select * from MyData').show(100)"
   ]
  },
  {
   "cell_type": "code",
   "execution_count": 18,
   "id": "363203c8",
   "metadata": {},
   "outputs": [],
   "source": [
    "from pyspark.sql.types import (StructType, StructField,\n",
    "                               StringType, IntegerType)\n",
    "\n",
    "recordSchema = StructType([StructField('date', StringType(), True),\n",
    "                           StructField('delay', IntegerType(), True),\n",
    "                           StructField('distance', IntegerType(), True),\n",
    "                           StructField('origin', StringType(), True),\n",
    "                           StructField('destination', StringType(), True)])\n",
    "\n",
    "df = spark.readStream.format('csv').schema(recordSchema).load('MyInputStream/')"
   ]
  },
  {
   "cell_type": "code",
   "execution_count": 22,
   "id": "a188a629",
   "metadata": {},
   "outputs": [
    {
     "name": "stderr",
     "output_type": "stream",
     "text": [
      "22/06/25 11:59:31 WARN TextSocketSourceProvider: The socket source should not be used for production applications! It does not support recovery.\n"
     ]
    }
   ],
   "source": [
    "df = spark.readStream.format('socket')\\\n",
    "                     .option('host','localhost')\\\n",
    "                     .option('port',12345)\\\n",
    "                     .load()"
   ]
  },
  {
   "cell_type": "code",
   "execution_count": 23,
   "id": "52e4e58a",
   "metadata": {},
   "outputs": [],
   "source": [
    "writer = df.writeStream.outputMode('append')\\\n",
    ".format('text')\\\n",
    ".option('path','OutStream/')\\\n",
    ".option('checkpointLocation','chkpnt20')"
   ]
  },
  {
   "cell_type": "code",
   "execution_count": 24,
   "id": "46a42dd1",
   "metadata": {},
   "outputs": [
    {
     "name": "stderr",
     "output_type": "stream",
     "text": [
      "22/06/25 12:00:38 WARN ResolveWriteToStream: spark.sql.adaptive.enabled is not supported in streaming DataFrames/Datasets and will be disabled.\n"
     ]
    }
   ],
   "source": [
    "query = writer.start()"
   ]
  },
  {
   "cell_type": "code",
   "execution_count": 25,
   "id": "8c57a73b",
   "metadata": {},
   "outputs": [],
   "source": [
    "query.stop()"
   ]
  },
  {
   "cell_type": "code",
   "execution_count": null,
   "id": "49526a3c",
   "metadata": {},
   "outputs": [],
   "source": []
  }
 ],
 "metadata": {
  "kernelspec": {
   "display_name": "Python 3 (ipykernel)",
   "language": "python",
   "name": "python3"
  },
  "language_info": {
   "codemirror_mode": {
    "name": "ipython",
    "version": 3
   },
   "file_extension": ".py",
   "mimetype": "text/x-python",
   "name": "python",
   "nbconvert_exporter": "python",
   "pygments_lexer": "ipython3",
   "version": "3.9.12"
  }
 },
 "nbformat": 4,
 "nbformat_minor": 5
}
