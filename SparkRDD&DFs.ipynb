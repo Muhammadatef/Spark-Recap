{
 "cells": [
  {
   "cell_type": "code",
   "execution_count": 1,
   "id": "fb7f2dde-fa37-49fb-b2da-855ce02247c4",
   "metadata": {},
   "outputs": [],
   "source": [
    "import pyspark\n"
   ]
  },
  {
   "cell_type": "code",
   "execution_count": 2,
   "id": "1a72fd65-bc6b-4e61-a357-66e5a72ae4e8",
   "metadata": {},
   "outputs": [],
   "source": [
    "from pyspark.sql import SparkSession\n",
    "\n",
    "# Create a SparkSession\n",
    "spark = SparkSession.builder \\\n",
    "    .appName(\"SimpleApp\") \\\n",
    "    .master(\"local[*]\") \\\n",
    "    .getOrCreate()\n",
    "\n",
    "# Get the SparkContext from the SparkSession\n",
    "sc = spark.sparkContext"
   ]
  },
  {
   "cell_type": "code",
   "execution_count": 3,
   "id": "09d523df-32bb-4e59-b3fc-6c84d0847976",
   "metadata": {},
   "outputs": [],
   "source": [
    "rdd = sc.parallelize([1,2,3,4,5,6,7])"
   ]
  },
  {
   "cell_type": "code",
   "execution_count": 4,
   "id": "385e90e4-282b-46da-9cb3-e2ea1608e478",
   "metadata": {},
   "outputs": [],
   "source": [
    "rdd2 = rdd.map(lambda x :x **3)"
   ]
  },
  {
   "cell_type": "code",
   "execution_count": 5,
   "id": "692aa030-59eb-40b5-8e79-39fdfb63d168",
   "metadata": {},
   "outputs": [
    {
     "data": {
      "text/plain": [
       "[1, 8, 27]"
      ]
     },
     "execution_count": 5,
     "metadata": {},
     "output_type": "execute_result"
    }
   ],
   "source": [
    "rdd2.take(3)"
   ]
  },
  {
   "cell_type": "code",
   "execution_count": 6,
   "id": "4359e55a-966c-4260-9fc8-be941a260bc5",
   "metadata": {},
   "outputs": [
    {
     "name": "stdout",
     "output_type": "stream",
     "text": [
      "Overwriting exmaple.txt\n"
     ]
    }
   ],
   "source": [
    "%%writefile exmaple.txt\n",
    "first line\n",
    "second line\n",
    "third line\n",
    "fourth line\n"
   ]
  },
  {
   "cell_type": "code",
   "execution_count": 33,
   "id": "8c3c1ca8-3c62-4319-b7bb-9fb7382f00aa",
   "metadata": {},
   "outputs": [],
   "source": [
    "rdd_file = sc.textFile('exmaple.txt')"
   ]
  },
  {
   "cell_type": "code",
   "execution_count": 34,
   "id": "af07a87f-bd5c-48e4-8442-b2581170dd52",
   "metadata": {},
   "outputs": [
    {
     "data": {
      "text/plain": [
       "4"
      ]
     },
     "execution_count": 34,
     "metadata": {},
     "output_type": "execute_result"
    }
   ],
   "source": [
    "rdd_file.count()"
   ]
  },
  {
   "cell_type": "code",
   "execution_count": 35,
   "id": "1db772ad-9fe0-4eec-bbc1-1da8c44c44af",
   "metadata": {},
   "outputs": [
    {
     "data": {
      "text/plain": [
       "['first line', 'second line', 'third line', 'fourth line']"
      ]
     },
     "execution_count": 35,
     "metadata": {},
     "output_type": "execute_result"
    }
   ],
   "source": [
    "rdd_file.collect()"
   ]
  },
  {
   "cell_type": "code",
   "execution_count": 36,
   "id": "7ebe295d-d5e5-4ebe-a6fa-34b465c61a06",
   "metadata": {},
   "outputs": [],
   "source": [
    "rdd_file_2 = rdd_file.filter(lambda line : 'second' in line)"
   ]
  },
  {
   "cell_type": "code",
   "execution_count": 37,
   "id": "d02e1075-3ce9-4ed9-8f90-a2e0e1a7579f",
   "metadata": {},
   "outputs": [
    {
     "data": {
      "text/plain": [
       "['second line']"
      ]
     },
     "execution_count": 37,
     "metadata": {},
     "output_type": "execute_result"
    }
   ],
   "source": [
    "rdd_file_2.collect()"
   ]
  },
  {
   "cell_type": "code",
   "execution_count": 38,
   "id": "ca2d1069-a6a9-4b27-8bfe-ac7eff0ee0c0",
   "metadata": {},
   "outputs": [],
   "source": [
    "rdd = sc.parallelize([1,2,3,4,5,6,7])"
   ]
  },
  {
   "cell_type": "code",
   "execution_count": 39,
   "id": "a0abc4e8-e87a-449f-b35b-94d8b234feec",
   "metadata": {},
   "outputs": [],
   "source": [
    "rdd2 = rdd.map(lambda x : x**2)"
   ]
  },
  {
   "cell_type": "code",
   "execution_count": 40,
   "id": "52a89748-896e-4bbe-8995-42de18b31fe7",
   "metadata": {},
   "outputs": [
    {
     "data": {
      "text/plain": [
       "[1, 4, 9, 16, 25, 36, 49]"
      ]
     },
     "execution_count": 40,
     "metadata": {},
     "output_type": "execute_result"
    }
   ],
   "source": [
    "rdd2.collect()"
   ]
  },
  {
   "cell_type": "code",
   "execution_count": 41,
   "id": "d47f8eac-7dd6-41f4-85e6-2a40ad9148ec",
   "metadata": {},
   "outputs": [],
   "source": [
    "rdd3 = rdd2.map(lambda x : x**3)"
   ]
  },
  {
   "cell_type": "code",
   "execution_count": 42,
   "id": "b18fc6f7-0c29-4a90-9d00-61bfe1b825a9",
   "metadata": {},
   "outputs": [],
   "source": [
    "rdd4 = rdd2.reduce(lambda a,b : a +b)"
   ]
  },
  {
   "cell_type": "code",
   "execution_count": 43,
   "id": "c8e1240d-eac2-49f9-bd6b-f27d1c74c2b3",
   "metadata": {},
   "outputs": [
    {
     "data": {
      "text/plain": [
       "140"
      ]
     },
     "execution_count": 43,
     "metadata": {},
     "output_type": "execute_result"
    }
   ],
   "source": [
    "rdd4"
   ]
  },
  {
   "cell_type": "code",
   "execution_count": 44,
   "id": "8e786ebb-1a3e-4ab2-aa2d-3343d9afc473",
   "metadata": {},
   "outputs": [],
   "source": [
    "rdd5 = rdd2.filter(lambda x : x > 5)"
   ]
  },
  {
   "cell_type": "code",
   "execution_count": 45,
   "id": "d962e597-4dd7-4941-b5cb-c1006bdcc477",
   "metadata": {},
   "outputs": [
    {
     "data": {
      "text/plain": [
       "[9, 16, 25, 36, 49]"
      ]
     },
     "execution_count": 45,
     "metadata": {},
     "output_type": "execute_result"
    }
   ],
   "source": [
    "rdd5.collect()"
   ]
  },
  {
   "cell_type": "code",
   "execution_count": 46,
   "id": "384ceb49-ac9d-45f3-9a09-ca142989f4f7",
   "metadata": {},
   "outputs": [],
   "source": [
    "new_data = list(range(100))\n",
    "rdd_new = sc.parallelize(new_data)"
   ]
  },
  {
   "cell_type": "code",
   "execution_count": 47,
   "id": "6f78bfdf-b123-4b6e-8201-59a875216b8a",
   "metadata": {},
   "outputs": [],
   "source": [
    "rdd1 = rdd_new.map(lambda x:x**2)"
   ]
  },
  {
   "cell_type": "code",
   "execution_count": 48,
   "id": "42fd8e80-33d3-47b7-8f93-7f3a30bc54f2",
   "metadata": {},
   "outputs": [],
   "source": [
    "rdd3 = rdd1.map(lambda x:x*2)"
   ]
  },
  {
   "cell_type": "code",
   "execution_count": 49,
   "id": "46434227-615e-4d11-a61f-dc29323e4875",
   "metadata": {},
   "outputs": [],
   "source": [
    "rdd4 = rdd1.map(lambda x:x/2)"
   ]
  },
  {
   "cell_type": "code",
   "execution_count": 50,
   "id": "e76256f3-8b71-49f7-9769-63b2c815200c",
   "metadata": {},
   "outputs": [
    {
     "data": {
      "text/plain": [
       "PythonRDD[23] at RDD at PythonRDD.scala:53"
      ]
     },
     "execution_count": 50,
     "metadata": {},
     "output_type": "execute_result"
    }
   ],
   "source": [
    "rdd4.persist()"
   ]
  },
  {
   "cell_type": "code",
   "execution_count": 51,
   "id": "88649f40-f008-400f-acd1-8fa0807c8253",
   "metadata": {},
   "outputs": [
    {
     "data": {
      "text/plain": [
       "True"
      ]
     },
     "execution_count": 51,
     "metadata": {},
     "output_type": "execute_result"
    }
   ],
   "source": [
    "rdd4.is_cached"
   ]
  },
  {
   "cell_type": "code",
   "execution_count": 52,
   "id": "fe96f8ae-3096-4115-9492-fe5d5d54ced1",
   "metadata": {},
   "outputs": [
    {
     "data": {
      "text/plain": [
       "[0.0, 0.5, 2.0, 4.5, 8.0]"
      ]
     },
     "execution_count": 52,
     "metadata": {},
     "output_type": "execute_result"
    }
   ],
   "source": [
    "rdd4.take(5)"
   ]
  },
  {
   "cell_type": "code",
   "execution_count": 53,
   "id": "d5bf5067-63c6-40e9-a9df-1fa4d63ed14e",
   "metadata": {},
   "outputs": [],
   "source": [
    "rdd_txt= rdd_file.map(lambda x :x.split())"
   ]
  },
  {
   "cell_type": "code",
   "execution_count": 54,
   "id": "c4883c03-48dc-4f10-8881-6691e39f1eb6",
   "metadata": {},
   "outputs": [
    {
     "data": {
      "text/plain": [
       "[['first', 'line'], ['second', 'line'], ['third', 'line'], ['fourth', 'line']]"
      ]
     },
     "execution_count": 54,
     "metadata": {},
     "output_type": "execute_result"
    }
   ],
   "source": [
    "rdd_txt.collect()"
   ]
  },
  {
   "cell_type": "code",
   "execution_count": 56,
   "id": "3b1ba140-e97e-48f4-9846-c2d565cc7717",
   "metadata": {},
   "outputs": [],
   "source": [
    "rdd_txt2= rdd_file.flatMap(lambda x :x.split())"
   ]
  },
  {
   "cell_type": "code",
   "execution_count": 57,
   "id": "5bc71f0b-3e6c-433b-8c45-65961b18f812",
   "metadata": {},
   "outputs": [
    {
     "data": {
      "text/plain": [
       "['first', 'line', 'second', 'line', 'third', 'line', 'fourth', 'line']"
      ]
     },
     "execution_count": 57,
     "metadata": {},
     "output_type": "execute_result"
    }
   ],
   "source": [
    "rdd_txt2.collect()"
   ]
  },
  {
   "cell_type": "code",
   "execution_count": 58,
   "id": "0c64abce-72df-4ce2-a7a9-0e7057c0baf7",
   "metadata": {},
   "outputs": [
    {
     "data": {
      "text/plain": [
       "['first line', 'second line', 'third line', 'fourth line']"
      ]
     },
     "execution_count": 58,
     "metadata": {},
     "output_type": "execute_result"
    }
   ],
   "source": [
    "rdd_file.collect()"
   ]
  },
  {
   "cell_type": "code",
   "execution_count": 70,
   "id": "847138a0-e4c0-4389-ae43-ccbf86c04978",
   "metadata": {},
   "outputs": [],
   "source": [
    "rdd = sc.parallelize(['MAF', 'Ghamry', 'Mody', 'Sw','Dans' ,'Wensh', 'Boshra', 'Kosomk ya Kareem ya 3arbi'])"
   ]
  },
  {
   "cell_type": "code",
   "execution_count": 71,
   "id": "d55b2f4e-2113-4302-82bb-adcaac3266bc",
   "metadata": {},
   "outputs": [
    {
     "data": {
      "text/plain": [
       "['MAF',\n",
       " 'Ghamry',\n",
       " 'Mody',\n",
       " 'Sw',\n",
       " 'Dans',\n",
       " 'Wensh',\n",
       " 'Boshra',\n",
       " 'Kosomk ya Kareem ya 3arbi']"
      ]
     },
     "execution_count": 71,
     "metadata": {},
     "output_type": "execute_result"
    }
   ],
   "source": [
    "rdd.collect()"
   ]
  },
  {
   "cell_type": "code",
   "execution_count": 72,
   "id": "cbd5d59d-7927-420b-9368-53961922dd1f",
   "metadata": {},
   "outputs": [],
   "source": [
    "rdd2 = rdd.groupBy(lambda x : x[0])"
   ]
  },
  {
   "cell_type": "code",
   "execution_count": 73,
   "id": "3e16f19b-88a4-4b9e-910d-3988d9ddb80d",
   "metadata": {},
   "outputs": [],
   "source": [
    "lst = rdd2.collect()"
   ]
  },
  {
   "cell_type": "code",
   "execution_count": 80,
   "id": "55591962-84d1-4168-9cc2-4f16eaed0ba3",
   "metadata": {},
   "outputs": [
    {
     "data": {
      "text/plain": [
       "['Kosomk ya Kareem ya 3arbi']"
      ]
     },
     "execution_count": 80,
     "metadata": {},
     "output_type": "execute_result"
    }
   ],
   "source": [
    "list(lst[5][1])"
   ]
  },
  {
   "cell_type": "code",
   "execution_count": 82,
   "id": "35ff4e87-03b9-44e4-93e6-90daae6ff843",
   "metadata": {},
   "outputs": [
    {
     "data": {
      "text/plain": [
       "[('B', ['Boshra']),\n",
       " ('G', ['Ghamry']),\n",
       " ('S', ['Sw']),\n",
       " ('D', ['Dans']),\n",
       " ('M', ['MAF', 'Mody']),\n",
       " ('K', ['Kosomk ya Kareem ya 3arbi']),\n",
       " ('W', ['Wensh'])]"
      ]
     },
     "execution_count": 82,
     "metadata": {},
     "output_type": "execute_result"
    }
   ],
   "source": [
    "[(a,list(b)) for a,b in lst]"
   ]
  },
  {
   "cell_type": "code",
   "execution_count": 89,
   "id": "151c4317-0553-402f-881a-fda5cb58c0b8",
   "metadata": {},
   "outputs": [],
   "source": [
    "l = [('A',10), ('B',10), ('B',90), ('S',50), ('A',30)]"
   ]
  },
  {
   "cell_type": "code",
   "execution_count": 90,
   "id": "60aaa0ca-e301-42f3-b3c5-2a100fcedeeb",
   "metadata": {},
   "outputs": [],
   "source": [
    "rdd= sc.parallelize(l)"
   ]
  },
  {
   "cell_type": "code",
   "execution_count": 91,
   "id": "f6788e71-275c-4658-a705-53c6fc6b12f6",
   "metadata": {},
   "outputs": [],
   "source": [
    "rdd2 = rdd.groupByKey()"
   ]
  },
  {
   "cell_type": "code",
   "execution_count": 95,
   "id": "88af4aa3-faaa-4bd1-b9c7-1af924a5bc49",
   "metadata": {},
   "outputs": [],
   "source": [
    "ll = rdd2.collect()"
   ]
  },
  {
   "cell_type": "code",
   "execution_count": 97,
   "id": "f6f7aaa5-0571-474b-b7f8-35e7434196c8",
   "metadata": {},
   "outputs": [
    {
     "data": {
      "text/plain": [
       "[('B', [10, 90]), ('S', [50]), ('A', [10, 30])]"
      ]
     },
     "execution_count": 97,
     "metadata": {},
     "output_type": "execute_result"
    }
   ],
   "source": [
    "[(a,list(b)) for a,b in ll]"
   ]
  },
  {
   "cell_type": "markdown",
   "id": "10b6f652-3b08-4dbc-9203-ee5aa0ce56d5",
   "metadata": {},
   "source": [
    "## Spark DataFrames"
   ]
  },
  {
   "cell_type": "code",
   "execution_count": 98,
   "id": "9bcb2d4d-a370-42e2-a7aa-84f5f7e5fb8d",
   "metadata": {},
   "outputs": [],
   "source": [
    "dataRDD = sc.parallelize([(\"Brooke\", 20), (\"Denny\", 31), (\"Jules\", 30),\n",
    "(\"TD\", 35), (\"Brooke\", 25),(\"Jules\", 40), (\"Denny\", 51)])"
   ]
  },
  {
   "cell_type": "code",
   "execution_count": 99,
   "id": "4e13aafc-18dc-45a6-a17f-80fdaafca6d9",
   "metadata": {},
   "outputs": [],
   "source": [
    "rdd2 = dataRDD.groupByKey()"
   ]
  },
  {
   "cell_type": "code",
   "execution_count": 101,
   "id": "bf97d55a-87e6-4492-99c3-5f4506053104",
   "metadata": {},
   "outputs": [],
   "source": [
    "list1=rdd2.collect()"
   ]
  },
  {
   "cell_type": "code",
   "execution_count": 102,
   "id": "1f1ab33c-5203-4b0d-9bf1-c50a5408b487",
   "metadata": {},
   "outputs": [
    {
     "data": {
      "text/plain": [
       "[('Brooke', [20, 25]), ('Denny', [31, 51]), ('TD', [35]), ('Jules', [30, 40])]"
      ]
     },
     "execution_count": 102,
     "metadata": {},
     "output_type": "execute_result"
    }
   ],
   "source": [
    "[(a,list(b)) for a,b in list1]"
   ]
  },
  {
   "cell_type": "code",
   "execution_count": 118,
   "id": "fbff624a-e870-42c0-b71f-2aef5dd6086c",
   "metadata": {},
   "outputs": [],
   "source": [
    "rdd3 = rdd2.map(lambda x : (x[0], sum(x[1]) / len(x[1])))"
   ]
  },
  {
   "cell_type": "code",
   "execution_count": 119,
   "id": "564835ec-4369-4647-9929-945b11dedc36",
   "metadata": {},
   "outputs": [
    {
     "data": {
      "text/plain": [
       "[('Brooke', 22.5), ('Denny', 41.0), ('TD', 35.0), ('Jules', 35.0)]"
      ]
     },
     "execution_count": 119,
     "metadata": {},
     "output_type": "execute_result"
    }
   ],
   "source": [
    "rdd3.collect()"
   ]
  },
  {
   "cell_type": "markdown",
   "id": "995c8f4e-2bb5-4027-aea7-f0afb165f190",
   "metadata": {},
   "source": [
    "#### Here above describing that doing any transformation on the RDD is Pain, here we tried to calculate the avg for each Key, we did some operation on the data itself, but it would be painful if the transformation is huge or the size of the data is big (having many columns)."
   ]
  },
  {
   "cell_type": "code",
   "execution_count": 120,
   "id": "8b84515a-e06d-499d-9f52-5cd2f112498b",
   "metadata": {},
   "outputs": [],
   "source": [
    "rdd_avg = dataRDD.groupByKey().map(lambda x : (x[0], sum(x[1]) / len(x[1])))"
   ]
  },
  {
   "cell_type": "code",
   "execution_count": 121,
   "id": "f715a502-eeb9-4d1f-85c6-386b0c2421a7",
   "metadata": {},
   "outputs": [
    {
     "data": {
      "text/plain": [
       "[('Brooke', 22.5), ('Denny', 41.0), ('TD', 35.0), ('Jules', 35.0)]"
      ]
     },
     "execution_count": 121,
     "metadata": {},
     "output_type": "execute_result"
    }
   ],
   "source": [
    "rdd_avg.collect()"
   ]
  },
  {
   "cell_type": "code",
   "execution_count": 122,
   "id": "f85deaa4-53a5-43e5-be13-91b67380f18c",
   "metadata": {},
   "outputs": [],
   "source": [
    "from pyspark.sql.functions import avg\n",
    "import pyspark.sql.functions as fn"
   ]
  },
  {
   "cell_type": "code",
   "execution_count": 123,
   "id": "a286732e-d3ec-4bb1-a277-e1025650f322",
   "metadata": {},
   "outputs": [],
   "source": [
    "data= [(\"Brooke\", 20), (\"Denny\", 31), (\"Jules\", 30),\n",
    "(\"TD\", 35), (\"Brooke\", 25),(\"Jules\", 40), (\"Denny\", 51)]"
   ]
  },
  {
   "cell_type": "code",
   "execution_count": 124,
   "id": "4b044272-a35a-4926-8fcc-a4213d9d3078",
   "metadata": {},
   "outputs": [],
   "source": [
    "df = spark.createDataFrame(data, ['name', 'age'])"
   ]
  },
  {
   "cell_type": "code",
   "execution_count": 125,
   "id": "55c6a109-11b7-4a13-9a99-255af227f687",
   "metadata": {},
   "outputs": [
    {
     "name": "stdout",
     "output_type": "stream",
     "text": [
      "root\n",
      " |-- name: string (nullable = true)\n",
      " |-- age: long (nullable = true)\n",
      "\n"
     ]
    }
   ],
   "source": [
    "df.printSchema()"
   ]
  },
  {
   "cell_type": "code",
   "execution_count": 126,
   "id": "f5357773-204e-4464-bb0d-9106d6c4f396",
   "metadata": {},
   "outputs": [
    {
     "name": "stdout",
     "output_type": "stream",
     "text": [
      "+------+---+\n",
      "|  name|age|\n",
      "+------+---+\n",
      "|Brooke| 20|\n",
      "| Denny| 31|\n",
      "| Jules| 30|\n",
      "|    TD| 35|\n",
      "|Brooke| 25|\n",
      "| Jules| 40|\n",
      "| Denny| 51|\n",
      "+------+---+\n",
      "\n"
     ]
    }
   ],
   "source": [
    "df.show()"
   ]
  },
  {
   "cell_type": "code",
   "execution_count": 130,
   "id": "78a3b3c1-f08d-4f21-8904-eb009d43e707",
   "metadata": {},
   "outputs": [
    {
     "data": {
      "text/plain": [
       "20"
      ]
     },
     "execution_count": 130,
     "metadata": {},
     "output_type": "execute_result"
    }
   ],
   "source": [
    "df.collect()[0].age"
   ]
  },
  {
   "cell_type": "code",
   "execution_count": 136,
   "id": "a94ac449-9a3f-4295-9939-b3b8c26049ee",
   "metadata": {},
   "outputs": [],
   "source": [
    "df2 = df.groupBy('name').avg('age').alias('avg_age')"
   ]
  },
  {
   "cell_type": "code",
   "execution_count": 137,
   "id": "94456d71-33a5-4f0e-82f1-87bf238c56fe",
   "metadata": {},
   "outputs": [
    {
     "name": "stdout",
     "output_type": "stream",
     "text": [
      "+------+--------+\n",
      "|  name|avg(age)|\n",
      "+------+--------+\n",
      "|Brooke|    22.5|\n",
      "| Denny|    41.0|\n",
      "| Jules|    35.0|\n",
      "|    TD|    35.0|\n",
      "+------+--------+\n",
      "\n"
     ]
    }
   ],
   "source": [
    "df2.show()"
   ]
  },
  {
   "cell_type": "code",
   "execution_count": 141,
   "id": "2e36febe-3abd-4acd-94b5-d0b3847b281d",
   "metadata": {},
   "outputs": [],
   "source": [
    "df3 = df.groupBy('name').agg(fn.avg('age').alias('avg_age'))"
   ]
  },
  {
   "cell_type": "code",
   "execution_count": 142,
   "id": "1be7bd97-e1ab-47a2-9243-0248f51528fe",
   "metadata": {},
   "outputs": [
    {
     "name": "stdout",
     "output_type": "stream",
     "text": [
      "+------+-------+\n",
      "|  name|avg_age|\n",
      "+------+-------+\n",
      "|Brooke|   22.5|\n",
      "| Denny|   41.0|\n",
      "| Jules|   35.0|\n",
      "|    TD|   35.0|\n",
      "+------+-------+\n",
      "\n"
     ]
    }
   ],
   "source": [
    "df3.show()"
   ]
  },
  {
   "cell_type": "code",
   "execution_count": 144,
   "id": "3b817d6f-67fa-4c92-8c31-c7ec541f0606",
   "metadata": {},
   "outputs": [],
   "source": [
    "df4 = spark.read.json('people.json')"
   ]
  },
  {
   "cell_type": "code",
   "execution_count": 145,
   "id": "60c83009-2f38-4679-88e9-4be148e1e5d4",
   "metadata": {},
   "outputs": [
    {
     "name": "stdout",
     "output_type": "stream",
     "text": [
      "+----+-------+\n",
      "| age|   name|\n",
      "+----+-------+\n",
      "|NULL|Michael|\n",
      "|  30|   Andy|\n",
      "|  19| Justin|\n",
      "+----+-------+\n",
      "\n"
     ]
    }
   ],
   "source": [
    "df4.show()"
   ]
  },
  {
   "cell_type": "code",
   "execution_count": 146,
   "id": "320dc019-0a2f-404a-946e-124f17ef5d6c",
   "metadata": {},
   "outputs": [
    {
     "data": {
      "text/plain": [
       "Column<'age'>"
      ]
     },
     "execution_count": 146,
     "metadata": {},
     "output_type": "execute_result"
    }
   ],
   "source": [
    "df4.age"
   ]
  },
  {
   "cell_type": "code",
   "execution_count": 147,
   "id": "07afc64f-e5f5-44ad-9072-14566cb763c2",
   "metadata": {},
   "outputs": [
    {
     "name": "stdout",
     "output_type": "stream",
     "text": [
      "root\n",
      " |-- age: long (nullable = true)\n",
      " |-- name: string (nullable = true)\n",
      "\n"
     ]
    }
   ],
   "source": [
    "df4.printSchema()"
   ]
  },
  {
   "cell_type": "code",
   "execution_count": 148,
   "id": "5aa7ddb0-3d6a-4ad9-a3b3-e364e9614796",
   "metadata": {},
   "outputs": [
    {
     "data": {
      "text/plain": [
       "Column<'Ahmed'>"
      ]
     },
     "execution_count": 148,
     "metadata": {},
     "output_type": "execute_result"
    }
   ],
   "source": [
    "fn.col('Ahmed')"
   ]
  },
  {
   "cell_type": "code",
   "execution_count": 149,
   "id": "9e2289d1-37f0-419b-b6c5-d5e93625a80c",
   "metadata": {},
   "outputs": [
    {
     "name": "stdout",
     "output_type": "stream",
     "text": [
      "+----+-------+\n",
      "| age|   name|\n",
      "+----+-------+\n",
      "|NULL|Michael|\n",
      "|  30|   Andy|\n",
      "|  19| Justin|\n",
      "+----+-------+\n",
      "\n"
     ]
    }
   ],
   "source": [
    "df4.show()"
   ]
  },
  {
   "cell_type": "code",
   "execution_count": 150,
   "id": "6e7940ce-b700-4752-8a43-a920e532e116",
   "metadata": {},
   "outputs": [],
   "source": [
    "from pyspark.sql.functions import * \n"
   ]
  },
  {
   "cell_type": "code",
   "execution_count": 156,
   "id": "c85dae91-38bb-46a9-bbe4-81b7a58f34b6",
   "metadata": {},
   "outputs": [
    {
     "name": "stdout",
     "output_type": "stream",
     "text": [
      "+------+---+\n",
      "|  name|age|\n",
      "+------+---+\n",
      "|  Andy| 30|\n",
      "|Justin| 19|\n",
      "+------+---+\n",
      "\n"
     ]
    }
   ],
   "source": [
    "df4[['name','age']].where(df4['age'] > 10).show()"
   ]
  },
  {
   "cell_type": "code",
   "execution_count": 158,
   "id": "9cdd242c-9c15-4445-a034-2eb964fab21c",
   "metadata": {},
   "outputs": [],
   "source": [
    "df5 = df4.select('name','age', (col('age') * 2).alias('Double Age'))"
   ]
  },
  {
   "cell_type": "code",
   "execution_count": 159,
   "id": "3dcde7b9-28be-4421-b7a8-cb15e8581dfa",
   "metadata": {},
   "outputs": [
    {
     "name": "stdout",
     "output_type": "stream",
     "text": [
      "+-------+----+----------+\n",
      "|   name| age|Double Age|\n",
      "+-------+----+----------+\n",
      "|Michael|NULL|      NULL|\n",
      "|   Andy|  30|        60|\n",
      "| Justin|  19|        38|\n",
      "+-------+----+----------+\n",
      "\n"
     ]
    }
   ],
   "source": [
    "df5.show()"
   ]
  },
  {
   "cell_type": "code",
   "execution_count": 161,
   "id": "63ca4916-1c2b-4531-8b4c-f92a377cab9b",
   "metadata": {},
   "outputs": [
    {
     "name": "stdout",
     "output_type": "stream",
     "text": [
      "+-------+----+----------+\n",
      "|   name| age|Double Age|\n",
      "+-------+----+----------+\n",
      "|Michael|NULL|      NULL|\n",
      "|   Andy|  30|        60|\n",
      "| Justin|  19|        38|\n",
      "+-------+----+----------+\n",
      "\n"
     ]
    }
   ],
   "source": [
    "df4.select('name','age', expr('age * 2').alias('Double Age')).show()"
   ]
  },
  {
   "cell_type": "code",
   "execution_count": 165,
   "id": "38e59dca-4026-459d-a57c-8570816a2862",
   "metadata": {},
   "outputs": [
    {
     "name": "stdout",
     "output_type": "stream",
     "text": [
      "+-----+------+---+---+\n",
      "|color| fruit| v1| v2|\n",
      "+-----+------+---+---+\n",
      "|  red|banana|  1| 10|\n",
      "| blue|banana|  2| 20|\n",
      "|  red|carrot|  3| 30|\n",
      "| blue| grape|  4| 40|\n",
      "|  red|carrot|  5| 50|\n",
      "|black|carrot|  6| 60|\n",
      "|  red|banana|  7| 70|\n",
      "|  red| grape|  8| 80|\n",
      "+-----+------+---+---+\n",
      "\n"
     ]
    }
   ],
   "source": [
    "df5 = spark.createDataFrame([\n",
    "    ['red', 'banana', 1, 10], ['blue', 'banana', 2, 20], ['red', 'carrot', 3, 30],\n",
    "    ['blue', 'grape', 4, 40], ['red', 'carrot', 5, 50], ['black', 'carrot', 6, 60],\n",
    "    ['red', 'banana', 7, 70], ['red', 'grape', 8, 80]], schema=['color', 'fruit', 'v1', 'v2'])\n",
    "df5.show()"
   ]
  },
  {
   "cell_type": "code",
   "execution_count": 178,
   "id": "9f02b37b-ea1f-488d-9706-288ed770eb24",
   "metadata": {},
   "outputs": [
    {
     "name": "stdout",
     "output_type": "stream",
     "text": [
      "+-----+------+------+\n",
      "|color|avg_v1|avg_v2|\n",
      "+-----+------+------+\n",
      "|  red|   4.8|  48.0|\n",
      "| blue|   3.0|  30.0|\n",
      "|black|   6.0|  60.0|\n",
      "+-----+------+------+\n",
      "\n"
     ]
    }
   ],
   "source": [
    "df5.groupBy('color').agg(avg('v1').alias('avg_v1'),avg('v2').alias('avg_v2')).show()"
   ]
  },
  {
   "cell_type": "code",
   "execution_count": 180,
   "id": "9a687c63-91d2-4f74-ac54-4829af004ce0",
   "metadata": {},
   "outputs": [
    {
     "name": "stdout",
     "output_type": "stream",
     "text": [
      "+-----+------+-------+-------+\n",
      "|color| fruit|avg(v1)|avg(v2)|\n",
      "+-----+------+-------+-------+\n",
      "|  red|banana|    4.0|   40.0|\n",
      "| blue|banana|    2.0|   20.0|\n",
      "|  red|carrot|    4.0|   40.0|\n",
      "| blue| grape|    4.0|   40.0|\n",
      "|black|carrot|    6.0|   60.0|\n",
      "|  red| grape|    8.0|   80.0|\n",
      "+-----+------+-------+-------+\n",
      "\n"
     ]
    }
   ],
   "source": [
    "df5.groupBy('color','fruit').avg().show()"
   ]
  },
  {
   "cell_type": "code",
   "execution_count": 181,
   "id": "5f620dbc-7eab-4375-94fb-ede024bf1ebc",
   "metadata": {},
   "outputs": [
    {
     "name": "stdout",
     "output_type": "stream",
     "text": [
      "+-----+------+-------+-------+\n",
      "|color| fruit|avg(v1)|avg(v2)|\n",
      "+-----+------+-------+-------+\n",
      "|black|carrot|    6.0|   60.0|\n",
      "| blue|banana|    2.0|   20.0|\n",
      "| blue| grape|    4.0|   40.0|\n",
      "|  red|banana|    4.0|   40.0|\n",
      "|  red|carrot|    4.0|   40.0|\n",
      "|  red| grape|    8.0|   80.0|\n",
      "+-----+------+-------+-------+\n",
      "\n"
     ]
    }
   ],
   "source": [
    "df5.groupBy('color','fruit').avg().sort('color').show()"
   ]
  },
  {
   "cell_type": "code",
   "execution_count": 189,
   "id": "3164a293-a7e5-44be-bd1a-82619d7b409c",
   "metadata": {},
   "outputs": [],
   "source": [
    "from pyspark.sql.types import StructType, StructField\n",
    "myschema = StructType([StructField('NewColor',StringType(), False),\n",
    "                     StructField('NewFruit', StringType(),False),\n",
    "                     StructField('Prop1', IntegerType()),\n",
    "                     StructField('Prop2', IntegerType(), True)])"
   ]
  },
  {
   "cell_type": "code",
   "execution_count": 190,
   "id": "574584e6-e8a6-41bd-b4fd-66f6aa888c1e",
   "metadata": {},
   "outputs": [
    {
     "name": "stdout",
     "output_type": "stream",
     "text": [
      "+--------+--------+-----+-----+\n",
      "|NewColor|NewFruit|Prop1|Prop2|\n",
      "+--------+--------+-----+-----+\n",
      "|     red|  banana|    1|   10|\n",
      "|    blue|  banana|    2|   20|\n",
      "|     red|  carrot|    3|   30|\n",
      "|    blue|   grape|    4|   40|\n",
      "|     red|  carrot|    5|   50|\n",
      "|   black|  carrot|    6|   60|\n",
      "|     red|  banana|    7|   70|\n",
      "|     red|   grape|    8|   80|\n",
      "+--------+--------+-----+-----+\n",
      "\n"
     ]
    }
   ],
   "source": [
    "df = spark.createDataFrame([\n",
    "    ['red', 'banana', 1, 10], ['blue', 'banana', 2, 20], ['red', 'carrot', 3, 30],\n",
    "    ['blue', 'grape', 4, 40], ['red', 'carrot', 5, 50], ['black', 'carrot', 6, 60],\n",
    "    ['red', 'banana', 7, 70], ['red', 'grape', 8, 80]], schema=myschema)\n",
    "df.show()"
   ]
  },
  {
   "cell_type": "code",
   "execution_count": 191,
   "id": "d28557e8-cb3f-4be4-bf51-a2aa826d003c",
   "metadata": {},
   "outputs": [
    {
     "name": "stdout",
     "output_type": "stream",
     "text": [
      "root\n",
      " |-- NewColor: string (nullable = false)\n",
      " |-- NewFruit: string (nullable = false)\n",
      " |-- Prop1: integer (nullable = true)\n",
      " |-- Prop2: integer (nullable = true)\n",
      "\n"
     ]
    }
   ],
   "source": [
    "df.printSchema()"
   ]
  },
  {
   "cell_type": "code",
   "execution_count": 192,
   "id": "fbd4023d-6f13-4ef2-8cb5-27587d7d2207",
   "metadata": {},
   "outputs": [
    {
     "name": "stdout",
     "output_type": "stream",
     "text": [
      "+--------+--------+-----+-----+\n",
      "|NewColor|NewFruit|Prop1|Prop2|\n",
      "+--------+--------+-----+-----+\n",
      "|     red|  banana|    1|   10|\n",
      "|    blue|  banana|    2|   20|\n",
      "|     red|  carrot|    3|   30|\n",
      "|    blue|   grape|    4|   40|\n",
      "|     red|  carrot|    5|   50|\n",
      "|   black|  carrot|    6|   60|\n",
      "|     red|  banana|    7|   70|\n",
      "|     red|   grape|    8|   80|\n",
      "+--------+--------+-----+-----+\n",
      "\n"
     ]
    }
   ],
   "source": [
    "## to do the schema like SQL \n",
    "sql_schema = 'NewColor String, NewFruit String, Prop1 integer, Prop2 Integer'\n",
    "df_sql = spark.createDataFrame([\n",
    "    ['red', 'banana', 1, 10], ['blue', 'banana', 2, 20], ['red', 'carrot', 3, 30],\n",
    "    ['blue', 'grape', 4, 40], ['red', 'carrot', 5, 50], ['black', 'carrot', 6, 60],\n",
    "    ['red', 'banana', 7, 70], ['red', 'grape', 8, 80]], schema=sql_schema)\n",
    "df_sql.show()\n"
   ]
  },
  {
   "cell_type": "code",
   "execution_count": 194,
   "id": "ce34be9b-e92f-404b-8734-0d1e23454c0a",
   "metadata": {},
   "outputs": [
    {
     "name": "stdout",
     "output_type": "stream",
     "text": [
      "root\n",
      " |-- NewColor: string (nullable = true)\n",
      " |-- NewFruit: string (nullable = true)\n",
      " |-- Prop1: integer (nullable = true)\n",
      " |-- Prop2: integer (nullable = true)\n",
      "\n"
     ]
    }
   ],
   "source": [
    "df_sql.printSchema()"
   ]
  },
  {
   "cell_type": "code",
   "execution_count": null,
   "id": "a439d391-abbb-4acf-9eb3-3703094f3b38",
   "metadata": {},
   "outputs": [],
   "source": []
  }
 ],
 "metadata": {
  "kernelspec": {
   "display_name": "Python 3 (ipykernel)",
   "language": "python",
   "name": "python3"
  },
  "language_info": {
   "codemirror_mode": {
    "name": "ipython",
    "version": 3
   },
   "file_extension": ".py",
   "mimetype": "text/x-python",
   "name": "python",
   "nbconvert_exporter": "python",
   "pygments_lexer": "ipython3",
   "version": "3.11.6"
  }
 },
 "nbformat": 4,
 "nbformat_minor": 5
}
