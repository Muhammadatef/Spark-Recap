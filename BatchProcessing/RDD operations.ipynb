{
 "cells": [
  {
   "cell_type": "code",
   "execution_count": 1,
   "id": "70905077-3e60-482f-a80d-f7b361dfc63d",
   "metadata": {
    "tags": []
   },
   "outputs": [],
   "source": [
    "import pyspark\n",
    "from pyspark.sql import SparkSession\n"
   ]
  },
  {
   "cell_type": "code",
   "execution_count": 2,
   "id": "2a4279c7-2c38-46d1-9b7a-1d755e3fa24d",
   "metadata": {
    "tags": []
   },
   "outputs": [],
   "source": [
    "\n",
    "# create a SparkSession\n",
    "spark = SparkSession.builder \\\n",
    "            .appName(\"MyApp\") \\\n",
    "            .master(\"local[*]\") \\\n",
    "            .getOrCreate()\n"
   ]
  },
  {
   "cell_type": "code",
   "execution_count": 3,
   "id": "cd810327-f708-4f26-ad0a-8eaf3e3c8539",
   "metadata": {
    "tags": []
   },
   "outputs": [],
   "source": [
    "sc = spark.sparkContext"
   ]
  },
  {
   "cell_type": "code",
   "execution_count": 4,
   "id": "e500ff2f-6eb5-4f9c-b5de-8886e9f899b9",
   "metadata": {
    "tags": []
   },
   "outputs": [],
   "source": [
    "# from pyspark import SparkContext\n",
    "# sc = SparkContext()"
   ]
  },
  {
   "cell_type": "code",
   "execution_count": 5,
   "id": "8ed2c49c-5719-4e85-8cb5-c84b92162bdf",
   "metadata": {
    "tags": []
   },
   "outputs": [],
   "source": [
    "data = list(range(9))"
   ]
  },
  {
   "cell_type": "code",
   "execution_count": 6,
   "id": "5f748411-d663-4430-802e-d0bd703afb00",
   "metadata": {
    "tags": []
   },
   "outputs": [
    {
     "data": {
      "text/plain": [
       "[0, 1, 2, 3, 4, 5, 6, 7, 8]"
      ]
     },
     "execution_count": 6,
     "metadata": {},
     "output_type": "execute_result"
    }
   ],
   "source": [
    "data\n"
   ]
  },
  {
   "cell_type": "code",
   "execution_count": 7,
   "id": "1e55992a-1622-4a61-ae1f-0dcae0b18ffc",
   "metadata": {
    "tags": []
   },
   "outputs": [],
   "source": [
    "rdd1 = sc.parallelize(data)"
   ]
  },
  {
   "cell_type": "code",
   "execution_count": 8,
   "id": "560fd121-5d7d-4955-b31c-6423abdf8e48",
   "metadata": {
    "tags": []
   },
   "outputs": [
    {
     "data": {
      "text/plain": [
       "ParallelCollectionRDD[0] at readRDDFromFile at PythonRDD.scala:287"
      ]
     },
     "execution_count": 8,
     "metadata": {},
     "output_type": "execute_result"
    }
   ],
   "source": [
    "rdd1"
   ]
  },
  {
   "cell_type": "code",
   "execution_count": 9,
   "id": "9b05fff5-c4c6-4c6f-a6e2-353dfe7f913f",
   "metadata": {
    "tags": []
   },
   "outputs": [
    {
     "data": {
      "text/plain": [
       "4"
      ]
     },
     "execution_count": 9,
     "metadata": {},
     "output_type": "execute_result"
    }
   ],
   "source": [
    "rdd1.getNumPartitions()"
   ]
  },
  {
   "cell_type": "code",
   "execution_count": 39,
   "id": "26b0f529-7291-4878-995c-4b048e628911",
   "metadata": {
    "tags": []
   },
   "outputs": [
    {
     "data": {
      "text/plain": [
       "ParallelCollectionRDD[0] at readRDDFromFile at PythonRDD.scala:287"
      ]
     },
     "execution_count": 39,
     "metadata": {},
     "output_type": "execute_result"
    }
   ],
   "source": [
    "rdd1.persist()"
   ]
  },
  {
   "cell_type": "code",
   "execution_count": 10,
   "id": "e70aa4be-eee4-4ea0-b428-ad131db27d37",
   "metadata": {
    "tags": []
   },
   "outputs": [
    {
     "data": {
      "text/plain": [
       "[0, 1, 2, 3, 4, 5, 6, 7, 8]"
      ]
     },
     "execution_count": 10,
     "metadata": {},
     "output_type": "execute_result"
    }
   ],
   "source": [
    "rdd1.collect()"
   ]
  },
  {
   "cell_type": "code",
   "execution_count": 13,
   "id": "535d3be7-21c4-44a0-bb39-d05fad841d4b",
   "metadata": {
    "tags": []
   },
   "outputs": [],
   "source": [
    "def sq(x):\n",
    "    return x**2"
   ]
  },
  {
   "cell_type": "code",
   "execution_count": 14,
   "id": "f382f7bf-8160-4aaf-aeb5-dec47e11f847",
   "metadata": {
    "tags": []
   },
   "outputs": [],
   "source": [
    "rdd2 = rdd1.map(sq)"
   ]
  },
  {
   "cell_type": "code",
   "execution_count": 16,
   "id": "82a7199b-3bf6-4faa-b46e-42dbb5c37ee2",
   "metadata": {
    "tags": []
   },
   "outputs": [
    {
     "data": {
      "text/plain": [
       "[0, 1, 4, 9, 16, 25, 36, 49, 64]"
      ]
     },
     "execution_count": 16,
     "metadata": {},
     "output_type": "execute_result"
    }
   ],
   "source": [
    "rdd2.collect()"
   ]
  },
  {
   "cell_type": "code",
   "execution_count": 17,
   "id": "87f8c5e8-427c-4b95-b7e4-d98d79fcf517",
   "metadata": {
    "tags": []
   },
   "outputs": [
    {
     "data": {
      "text/plain": [
       "[0, 1, 4]"
      ]
     },
     "execution_count": 17,
     "metadata": {},
     "output_type": "execute_result"
    }
   ],
   "source": [
    "rdd2.take(3)"
   ]
  },
  {
   "cell_type": "code",
   "execution_count": 19,
   "id": "92b581d8-33f4-4fd7-b249-b6d07d0b44f9",
   "metadata": {
    "tags": []
   },
   "outputs": [
    {
     "data": {
      "text/plain": [
       "9"
      ]
     },
     "execution_count": 19,
     "metadata": {},
     "output_type": "execute_result"
    }
   ],
   "source": [
    "rdd2.count()"
   ]
  },
  {
   "cell_type": "code",
   "execution_count": 40,
   "id": "4433ce66-c43b-44bb-b5fe-06cf1b421d61",
   "metadata": {
    "tags": []
   },
   "outputs": [],
   "source": [
    "new_data = list(range(100))\n",
    "rdd_new = sc.parallelize(new_data)"
   ]
  },
  {
   "cell_type": "code",
   "execution_count": 42,
   "id": "1dd44826-0eca-496b-b779-7b253516cd76",
   "metadata": {
    "tags": []
   },
   "outputs": [],
   "source": [
    "rdd1 = rdd_new.map(lambda x:x+10)"
   ]
  },
  {
   "cell_type": "code",
   "execution_count": 43,
   "id": "f7c4a6a5-1c73-4b7f-b451-8f50957572cf",
   "metadata": {
    "tags": []
   },
   "outputs": [],
   "source": [
    "rdd2 = rdd1.map(lambda x : x*2 )"
   ]
  },
  {
   "cell_type": "code",
   "execution_count": 44,
   "id": "4b6f58c5-def2-4fbf-9649-792aa17506dd",
   "metadata": {
    "tags": []
   },
   "outputs": [],
   "source": [
    "rdd3 = rdd1.map(lambda x:x**2)"
   ]
  },
  {
   "cell_type": "code",
   "execution_count": 46,
   "id": "b3358d6d-8b94-4ce9-8131-74a035aa0738",
   "metadata": {
    "tags": []
   },
   "outputs": [],
   "source": [
    "rdd4 = rdd1.map(lambda x:x/2)"
   ]
  },
  {
   "cell_type": "code",
   "execution_count": 47,
   "id": "a83fadb5-cc79-402b-8d8f-4847ad34037d",
   "metadata": {
    "tags": []
   },
   "outputs": [
    {
     "data": {
      "text/plain": [
       "PythonRDD[15] at RDD at PythonRDD.scala:53"
      ]
     },
     "execution_count": 47,
     "metadata": {},
     "output_type": "execute_result"
    }
   ],
   "source": [
    "rdd1.persist()"
   ]
  },
  {
   "cell_type": "code",
   "execution_count": 49,
   "id": "6e360cc9-853c-41ac-9d21-9802785cd596",
   "metadata": {
    "tags": []
   },
   "outputs": [
    {
     "data": {
      "text/plain": [
       "[20, 22, 24, 26, 28, 30, 32, 34, 36, 38]"
      ]
     },
     "execution_count": 49,
     "metadata": {},
     "output_type": "execute_result"
    }
   ],
   "source": [
    "rdd2.take(10)"
   ]
  },
  {
   "cell_type": "code",
   "execution_count": 29,
   "id": "db3486fe-bb81-4754-baf9-38a42cf6feae",
   "metadata": {
    "tags": []
   },
   "outputs": [
    {
     "name": "stdout",
     "output_type": "stream",
     "text": [
      "Overwriting example.txt\n"
     ]
    }
   ],
   "source": [
    "%%writefile example.txt\n",
    "first line\n",
    "second line\n",
    "third line\n",
    "fourth line"
   ]
  },
  {
   "cell_type": "code",
   "execution_count": 30,
   "id": "4b40d59b-6e6e-4e7b-93fb-56f08d0d8e0c",
   "metadata": {
    "tags": []
   },
   "outputs": [],
   "source": [
    "rdd_text = sc.textFile('example.txt')"
   ]
  },
  {
   "cell_type": "code",
   "execution_count": 31,
   "id": "82ec3413-7ad9-4b07-9dc1-e24864416d73",
   "metadata": {
    "tags": []
   },
   "outputs": [
    {
     "data": {
      "text/plain": [
       "example.txt MapPartitionsRDD[10] at textFile at NativeMethodAccessorImpl.java:0"
      ]
     },
     "execution_count": 31,
     "metadata": {},
     "output_type": "execute_result"
    }
   ],
   "source": [
    "rdd_text"
   ]
  },
  {
   "cell_type": "code",
   "execution_count": 32,
   "id": "9f91cdd8-fd18-4d76-9149-e963d3a693f4",
   "metadata": {
    "tags": []
   },
   "outputs": [
    {
     "data": {
      "text/plain": [
       "'first line'"
      ]
     },
     "execution_count": 32,
     "metadata": {},
     "output_type": "execute_result"
    }
   ],
   "source": [
    "rdd_text.first()"
   ]
  },
  {
   "cell_type": "code",
   "execution_count": 34,
   "id": "38fbbe7e-bea4-4ecb-9ac1-651785c794e8",
   "metadata": {
    "tags": []
   },
   "outputs": [
    {
     "data": {
      "text/plain": [
       "['first line', 'second line', 'third line']"
      ]
     },
     "execution_count": 34,
     "metadata": {},
     "output_type": "execute_result"
    }
   ],
   "source": [
    "rdd_text.take(3)"
   ]
  },
  {
   "cell_type": "code",
   "execution_count": 50,
   "id": "d9f07da7-0336-4d04-adce-35d68d6b8944",
   "metadata": {
    "tags": []
   },
   "outputs": [],
   "source": [
    "rdd_text2 = rdd_text.map(lambda x :x.split())"
   ]
  },
  {
   "cell_type": "code",
   "execution_count": 51,
   "id": "c60a634d-3e91-4a9f-8706-61cc75fcc55b",
   "metadata": {
    "tags": []
   },
   "outputs": [
    {
     "data": {
      "text/plain": [
       "PythonRDD[18] at RDD at PythonRDD.scala:53"
      ]
     },
     "execution_count": 51,
     "metadata": {},
     "output_type": "execute_result"
    }
   ],
   "source": [
    "rdd_text2"
   ]
  },
  {
   "cell_type": "code",
   "execution_count": 53,
   "id": "83eb4b5e-5a75-42da-8735-e1af78e810b9",
   "metadata": {
    "tags": []
   },
   "outputs": [
    {
     "data": {
      "text/plain": [
       "[['first', 'line'], ['second', 'line'], ['third', 'line'], ['fourth', 'line']]"
      ]
     },
     "execution_count": 53,
     "metadata": {},
     "output_type": "execute_result"
    }
   ],
   "source": [
    "rdd_text2.collect()"
   ]
  },
  {
   "cell_type": "markdown",
   "id": "90036567-118b-4e38-a79e-8948529fc648",
   "metadata": {},
   "source": [
    "## Narrow Transformation VS wide Transformation "
   ]
  },
  {
   "cell_type": "markdown",
   "id": "e543a2c4",
   "metadata": {
    "tags": []
   },
   "source": [
    "## Narrow transformation are those where each input partition will contribute to only one output partition. \n",
    "\n",
    "## Wide transformation — specify wide dependencies, Wide transformation will have input partitions contributing to many output partitions.\n",
    "## You will often hear this referred to as a shuffle, where Spark will exchange partitions across the cluster"
   ]
  },
  {
   "cell_type": "code",
   "execution_count": 57,
   "id": "e3913358-e769-4f99-a60d-98d3a632a8d6",
   "metadata": {
    "tags": []
   },
   "outputs": [
    {
     "name": "stdout",
     "output_type": "stream",
     "text": [
      "Writing example2.txt\n"
     ]
    }
   ],
   "source": [
    "%%writefile example2.txt\n",
    "first\n",
    "second line \n",
    "the third line \n",
    "then a fourth line \n"
   ]
  },
  {
   "cell_type": "code",
   "execution_count": 60,
   "id": "b8894ef9-04ff-4443-b08e-08f03161ed7e",
   "metadata": {
    "tags": []
   },
   "outputs": [],
   "source": [
    "rdd1 = sc.textFile('example2.txt')"
   ]
  },
  {
   "cell_type": "code",
   "execution_count": 61,
   "id": "5e622f2f-6636-4a4c-b879-aaff9ec160d6",
   "metadata": {
    "tags": []
   },
   "outputs": [
    {
     "data": {
      "text/plain": [
       "['first', 'second line ', 'the third line ', 'then a fourth line ']"
      ]
     },
     "execution_count": 61,
     "metadata": {},
     "output_type": "execute_result"
    }
   ],
   "source": [
    "rdd1.collect()"
   ]
  },
  {
   "cell_type": "code",
   "execution_count": 62,
   "id": "9e016305-bc59-4fe9-9a12-354d94efd9ad",
   "metadata": {
    "tags": []
   },
   "outputs": [],
   "source": [
    "rdd2 = rdd1.map(lambda l : l.split())"
   ]
  },
  {
   "cell_type": "code",
   "execution_count": 63,
   "id": "d71385d1-8ae6-466f-a276-46f6251f9cbf",
   "metadata": {
    "tags": []
   },
   "outputs": [
    {
     "data": {
      "text/plain": [
       "[['first'],\n",
       " ['second', 'line'],\n",
       " ['the', 'third', 'line'],\n",
       " ['then', 'a', 'fourth', 'line']]"
      ]
     },
     "execution_count": 63,
     "metadata": {},
     "output_type": "execute_result"
    }
   ],
   "source": [
    "rdd2.collect()"
   ]
  },
  {
   "cell_type": "code",
   "execution_count": 65,
   "id": "3e566a9b-6120-4bda-9427-6de2bb7bb8b0",
   "metadata": {
    "tags": []
   },
   "outputs": [],
   "source": [
    "rdd3 = rdd1.flatMap(lambda l : l.split())"
   ]
  },
  {
   "cell_type": "code",
   "execution_count": 66,
   "id": "53b8eaa3-0ea6-47e3-be23-ab20b97dbf55",
   "metadata": {
    "tags": []
   },
   "outputs": [
    {
     "data": {
      "text/plain": [
       "['first',\n",
       " 'second',\n",
       " 'line',\n",
       " 'the',\n",
       " 'third',\n",
       " 'line',\n",
       " 'then',\n",
       " 'a',\n",
       " 'fourth',\n",
       " 'line']"
      ]
     },
     "execution_count": 66,
     "metadata": {},
     "output_type": "execute_result"
    }
   ],
   "source": [
    "rdd3.collect()"
   ]
  },
  {
   "cell_type": "code",
   "execution_count": 68,
   "id": "63508b3e-0e5c-4532-a749-beaf0d23238c",
   "metadata": {
    "tags": []
   },
   "outputs": [],
   "source": [
    "rdd = sc.parallelize(list(range(15)))"
   ]
  },
  {
   "cell_type": "code",
   "execution_count": 69,
   "id": "c31cd229-4abd-431c-b4cb-c4a2ecbe5408",
   "metadata": {
    "tags": []
   },
   "outputs": [],
   "source": [
    "rdd2=rdd.filter(lambda x : x > 5)"
   ]
  },
  {
   "cell_type": "code",
   "execution_count": 70,
   "id": "2bdf3c2f-3196-4601-bcbe-1843d3ec220f",
   "metadata": {
    "tags": []
   },
   "outputs": [
    {
     "data": {
      "text/plain": [
       "[6, 7, 8, 9, 10, 11, 12, 13, 14]"
      ]
     },
     "execution_count": 70,
     "metadata": {},
     "output_type": "execute_result"
    }
   ],
   "source": [
    "rdd2.collect()"
   ]
  },
  {
   "cell_type": "code",
   "execution_count": 71,
   "id": "c4c25574-836e-475c-8560-057e9e3b2597",
   "metadata": {
    "tags": []
   },
   "outputs": [],
   "source": [
    "## WIDE OPERATION \n",
    "\n",
    "rdd = sc.parallelize(['Omar', 'MAF', 'Ahmed', 'Amira', 'Mohamed', 'Omnia'])"
   ]
  },
  {
   "cell_type": "code",
   "execution_count": 72,
   "id": "1b61ea8b-17a3-4e7a-8b88-2998fc31b409",
   "metadata": {
    "tags": []
   },
   "outputs": [
    {
     "data": {
      "text/plain": [
       "['Omar', 'MAF', 'Ahmed', 'Amira', 'Mohamed', 'Omnia']"
      ]
     },
     "execution_count": 72,
     "metadata": {},
     "output_type": "execute_result"
    }
   ],
   "source": [
    "rdd.collect()"
   ]
  },
  {
   "cell_type": "code",
   "execution_count": 73,
   "id": "57162dfb-39b3-4e4a-8495-54d00c4244d8",
   "metadata": {
    "tags": []
   },
   "outputs": [],
   "source": [
    "rdd2 = rdd.groupBy(lambda x : x[0])"
   ]
  },
  {
   "cell_type": "code",
   "execution_count": 75,
   "id": "adf9b298-7aa0-4062-b4d8-c75b6e761f2a",
   "metadata": {
    "tags": []
   },
   "outputs": [
    {
     "data": {
      "text/plain": [
       "[('O', <pyspark.resultiterable.ResultIterable at 0x7fad0f82f4f0>),\n",
       " ('M', <pyspark.resultiterable.ResultIterable at 0x7fad0f82e6e0>),\n",
       " ('A', <pyspark.resultiterable.ResultIterable at 0x7fad0f82ee00>)]"
      ]
     },
     "execution_count": 75,
     "metadata": {},
     "output_type": "execute_result"
    }
   ],
   "source": [
    "rdd2.collect()"
   ]
  },
  {
   "cell_type": "code",
   "execution_count": 76,
   "id": "1946bebd-d987-4035-a60b-2aa2bb9f8dfd",
   "metadata": {
    "tags": []
   },
   "outputs": [],
   "source": [
    "lst = rdd2.collect()"
   ]
  },
  {
   "cell_type": "code",
   "execution_count": 77,
   "id": "77d22105-f253-41fa-a4b2-ed7bb1797d46",
   "metadata": {
    "tags": []
   },
   "outputs": [
    {
     "data": {
      "text/plain": [
       "('O', <pyspark.resultiterable.ResultIterable at 0x7fad0fb9fd00>)"
      ]
     },
     "execution_count": 77,
     "metadata": {},
     "output_type": "execute_result"
    }
   ],
   "source": [
    "lst[0]"
   ]
  },
  {
   "cell_type": "code",
   "execution_count": 79,
   "id": "dc021723-a009-4b36-94bf-e07901f2366b",
   "metadata": {
    "tags": []
   },
   "outputs": [
    {
     "data": {
      "text/plain": [
       "[('O', ['Omar', 'Omnia']),\n",
       " ('M', ['MAF', 'Mohamed']),\n",
       " ('A', ['Ahmed', 'Amira'])]"
      ]
     },
     "execution_count": 79,
     "metadata": {},
     "output_type": "execute_result"
    }
   ],
   "source": [
    "[(a,list(b)) for (a,b) in lst]"
   ]
  },
  {
   "cell_type": "code",
   "execution_count": 80,
   "id": "ccfacba8-099a-4cbd-bd4e-b61b7c4bab57",
   "metadata": {
    "tags": []
   },
   "outputs": [],
   "source": [
    "l = [('A', 10), ('B', 15), ('A', 20) , ('B', 30)]"
   ]
  },
  {
   "cell_type": "code",
   "execution_count": 82,
   "id": "76b88203-ae6b-49f7-80e7-5b48e51e522c",
   "metadata": {
    "tags": []
   },
   "outputs": [],
   "source": [
    "rdd = sc.parallelize(l)"
   ]
  },
  {
   "cell_type": "code",
   "execution_count": 83,
   "id": "20df32f1-2003-4967-868c-23032edccaeb",
   "metadata": {
    "tags": []
   },
   "outputs": [
    {
     "data": {
      "text/plain": [
       "[('A', 10), ('B', 15), ('A', 20), ('B', 30)]"
      ]
     },
     "execution_count": 83,
     "metadata": {},
     "output_type": "execute_result"
    }
   ],
   "source": [
    "rdd.collect()"
   ]
  },
  {
   "cell_type": "code",
   "execution_count": 84,
   "id": "a2de47a1-e7f8-4fc8-b525-b85341fe9fd0",
   "metadata": {
    "tags": []
   },
   "outputs": [],
   "source": [
    "rdd2 = rdd.groupByKey()"
   ]
  },
  {
   "cell_type": "code",
   "execution_count": 87,
   "id": "ef74c8ce-fff1-4c54-8719-0dbbe2c17e5f",
   "metadata": {
    "tags": []
   },
   "outputs": [],
   "source": [
    "ll = rdd2.collect()"
   ]
  },
  {
   "cell_type": "code",
   "execution_count": 88,
   "id": "9fc96ab8-1c47-44aa-96da-4bb1c384ce4b",
   "metadata": {
    "tags": []
   },
   "outputs": [
    {
     "data": {
      "text/plain": [
       "[('A', [10, 20]), ('B', [15, 30])]"
      ]
     },
     "execution_count": 88,
     "metadata": {},
     "output_type": "execute_result"
    }
   ],
   "source": [
    "[(a,list(b)) for (a,b) in ll]"
   ]
  },
  {
   "cell_type": "code",
   "execution_count": null,
   "id": "e95672ec-47c4-47b4-a8b8-adf3dac8ca7f",
   "metadata": {},
   "outputs": [],
   "source": []
  }
 ],
 "metadata": {
  "kernelspec": {
   "display_name": "Python 3 (ipykernel)",
   "language": "python",
   "name": "python3"
  },
  "language_info": {
   "codemirror_mode": {
    "name": "ipython",
    "version": 3
   },
   "file_extension": ".py",
   "mimetype": "text/x-python",
   "name": "python",
   "nbconvert_exporter": "python",
   "pygments_lexer": "ipython3",
   "version": "3.8.10"
  }
 },
 "nbformat": 4,
 "nbformat_minor": 5
}
